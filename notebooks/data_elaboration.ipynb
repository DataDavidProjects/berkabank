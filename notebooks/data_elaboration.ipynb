{
 "cells": [
  {
   "cell_type": "code",
   "execution_count": 4,
   "metadata": {},
   "outputs": [],
   "source": [
    "# Import libraries\n",
    "import numpy as np\n",
    "import pandas as pd\n",
    "import matplotlib.pyplot as plt\n",
    "import datetime\n",
    "from collections import defaultdict"
   ]
  },
  {
   "cell_type": "code",
   "execution_count": 5,
   "metadata": {},
   "outputs": [
    {
     "data": {
      "text/plain": [
       "datetime.datetime(1997, 1, 1, 0, 0)"
      ]
     },
     "execution_count": 5,
     "metadata": {},
     "output_type": "execute_result"
    }
   ],
   "source": [
    "# Divide the data into two time frames\n",
    "ref_date = datetime.datetime(day=1, month=1, year=1997)\n",
    "ref_date"
   ]
  },
  {
   "cell_type": "code",
   "execution_count": 6,
   "metadata": {},
   "outputs": [],
   "source": [
    "# Define path to files\n",
    "path_to_files = \"../berkabank/elaboration/\"\n",
    "\n",
    "\n",
    "# Load the data\n",
    "files = [\"account\", \"card\", \"client\", \"disp\", \"district\", \"loan\", \"order\", \"trans\"]\n",
    "data = {file: pd.read_csv(f\"{path_to_files}{file}.csv\") for file in files}\n",
    "\n",
    "# Convert dates to datetime\n",
    "data = {\n",
    "    key: df.apply(lambda col: pd.to_datetime(col) if \"date\" in col.name else col)\n",
    "    for key, df in data.items()\n",
    "}"
   ]
  },
  {
   "cell_type": "code",
   "execution_count": 7,
   "metadata": {},
   "outputs": [
    {
     "data": {
      "text/plain": [
       "{'account': ['account_creation_date'],\n",
       " 'card': ['card_issued_date'],\n",
       " 'client': [],\n",
       " 'disp': [],\n",
       " 'district': [],\n",
       " 'loan': ['loan_date', 'estimated_loan_end_date'],\n",
       " 'order': [],\n",
       " 'trans': ['transaction_date']}"
      ]
     },
     "execution_count": 7,
     "metadata": {},
     "output_type": "execute_result"
    }
   ],
   "source": [
    "# Collect into a dict dataframes name: columns with date substring\n",
    "date_columns = {\n",
    "    key: [col for col in df.columns if \"date\" in col] for key, df in data.items()\n",
    "}\n",
    "date_columns"
   ]
  },
  {
   "cell_type": "code",
   "execution_count": 8,
   "metadata": {},
   "outputs": [],
   "source": [
    "# Filter transactions before and after the reference date\n",
    "transaction_t0 = data[\"trans\"].loc[data[\"trans\"][\"transaction_date\"] < ref_date, :]\n",
    "transaction_t1 = data[\"trans\"].loc[data[\"trans\"][\"transaction_date\"] >= ref_date, :]\n",
    "\n",
    "# Filter accounts before and after the reference date\n",
    "account_t0 = data[\"account\"].loc[data[\"account\"][\"account_creation_date\"] < ref_date, :]\n",
    "account_t1 = data[\"account\"].loc[\n",
    "    data[\"account\"][\"account_creation_date\"] >= ref_date, :\n",
    "]\n",
    "\n",
    "# Filter cards before and after the reference date\n",
    "card_t0 = data[\"card\"].loc[data[\"card\"][\"card_issued_date\"] < ref_date, :]\n",
    "card_t1 = data[\"card\"].loc[data[\"card\"][\"card_issued_date\"] >= ref_date, :]"
   ]
  },
  {
   "cell_type": "code",
   "execution_count": 16,
   "metadata": {},
   "outputs": [
    {
     "name": "stderr",
     "output_type": "stream",
     "text": [
      "/var/folders/2v/jln6f4j122qcvxp2jjr6cclm0000gn/T/ipykernel_97367/475800764.py:2: SettingWithCopyWarning: \n",
      "A value is trying to be set on a copy of a slice from a DataFrame.\n",
      "Try using .loc[row_indexer,col_indexer] = value instead\n",
      "\n",
      "See the caveats in the documentation: https://pandas.pydata.org/pandas-docs/stable/user_guide/indexing.html#returning-a-view-versus-a-copy\n",
      "  transaction_t0[\"transaction_date\"] = pd.to_datetime(transaction_t0[\"transaction_date\"]).dt.date\n",
      "/var/folders/2v/jln6f4j122qcvxp2jjr6cclm0000gn/T/ipykernel_97367/475800764.py:3: SettingWithCopyWarning: \n",
      "A value is trying to be set on a copy of a slice from a DataFrame.\n",
      "Try using .loc[row_indexer,col_indexer] = value instead\n",
      "\n",
      "See the caveats in the documentation: https://pandas.pydata.org/pandas-docs/stable/user_guide/indexing.html#returning-a-view-versus-a-copy\n",
      "  transaction_t1[\"transaction_date\"] = pd.to_datetime(transaction_t1[\"transaction_date\"]).dt.date\n",
      "/var/folders/2v/jln6f4j122qcvxp2jjr6cclm0000gn/T/ipykernel_97367/475800764.py:4: SettingWithCopyWarning: \n",
      "A value is trying to be set on a copy of a slice from a DataFrame.\n",
      "Try using .loc[row_indexer,col_indexer] = value instead\n",
      "\n",
      "See the caveats in the documentation: https://pandas.pydata.org/pandas-docs/stable/user_guide/indexing.html#returning-a-view-versus-a-copy\n",
      "  account_t0[\"account_creation_date\"] = pd.to_datetime(account_t0[\"account_creation_date\"]).dt.date\n",
      "/var/folders/2v/jln6f4j122qcvxp2jjr6cclm0000gn/T/ipykernel_97367/475800764.py:5: SettingWithCopyWarning: \n",
      "A value is trying to be set on a copy of a slice from a DataFrame.\n",
      "Try using .loc[row_indexer,col_indexer] = value instead\n",
      "\n",
      "See the caveats in the documentation: https://pandas.pydata.org/pandas-docs/stable/user_guide/indexing.html#returning-a-view-versus-a-copy\n",
      "  account_t1[\"account_creation_date\"] = pd.to_datetime(account_t1[\"account_creation_date\"]).dt.date\n",
      "/var/folders/2v/jln6f4j122qcvxp2jjr6cclm0000gn/T/ipykernel_97367/475800764.py:6: SettingWithCopyWarning: \n",
      "A value is trying to be set on a copy of a slice from a DataFrame.\n",
      "Try using .loc[row_indexer,col_indexer] = value instead\n",
      "\n",
      "See the caveats in the documentation: https://pandas.pydata.org/pandas-docs/stable/user_guide/indexing.html#returning-a-view-versus-a-copy\n",
      "  card_t0[\"card_issued_date\"] = pd.to_datetime(card_t0[\"card_issued_date\"]).dt.date\n",
      "/var/folders/2v/jln6f4j122qcvxp2jjr6cclm0000gn/T/ipykernel_97367/475800764.py:7: SettingWithCopyWarning: \n",
      "A value is trying to be set on a copy of a slice from a DataFrame.\n",
      "Try using .loc[row_indexer,col_indexer] = value instead\n",
      "\n",
      "See the caveats in the documentation: https://pandas.pydata.org/pandas-docs/stable/user_guide/indexing.html#returning-a-view-versus-a-copy\n",
      "  card_t1[\"card_issued_date\"] = pd.to_datetime(card_t1[\"card_issued_date\"]).dt.date\n"
     ]
    }
   ],
   "source": [
    "# Cast dates to date \n",
    "transaction_t0[\"transaction_date\"] = pd.to_datetime(transaction_t0[\"transaction_date\"]).dt.date\n",
    "transaction_t1[\"transaction_date\"] = pd.to_datetime(transaction_t1[\"transaction_date\"]).dt.date\n",
    "account_t0[\"account_creation_date\"] = pd.to_datetime(account_t0[\"account_creation_date\"]).dt.date\n",
    "account_t1[\"account_creation_date\"] = pd.to_datetime(account_t1[\"account_creation_date\"]).dt.date\n",
    "card_t0[\"card_issued_date\"] = pd.to_datetime(card_t0[\"card_issued_date\"]).dt.date\n",
    "card_t1[\"card_issued_date\"] = pd.to_datetime(card_t1[\"card_issued_date\"]).dt.date   "
   ]
  },
  {
   "cell_type": "code",
   "execution_count": 17,
   "metadata": {},
   "outputs": [],
   "source": [
    "# Save the data\n",
    "path_to_files = \"../berkabank/primary/\"\n",
    "transaction_t0.to_csv(f\"{path_to_files}transactions.csv\", index=False)\n",
    "account_t0.to_csv(f\"{path_to_files}accounts.csv\", index=False)\n",
    "card_t0.to_csv(f\"{path_to_files}cards.csv\", index=False)"
   ]
  },
  {
   "cell_type": "code",
   "execution_count": 18,
   "metadata": {},
   "outputs": [
    {
     "data": {
      "text/plain": [
       "((3602, 4), (449634, 8), (201, 4))"
      ]
     },
     "execution_count": 18,
     "metadata": {},
     "output_type": "execute_result"
    }
   ],
   "source": [
    "account_t0.shape, transaction_t0.shape, card_t0.shape"
   ]
  },
  {
   "cell_type": "code",
   "execution_count": 22,
   "metadata": {},
   "outputs": [
    {
     "data": {
      "text/plain": [
       "trans_id                               int64\n",
       "account_id                             int64\n",
       "transaction_date                      object\n",
       "transaction_type                      object\n",
       "transaction_operation                 object\n",
       "transaction_amount                   float64\n",
       "account_balance_after_transaction    float64\n",
       "k_symbol                              object\n",
       "dtype: object"
      ]
     },
     "execution_count": 22,
     "metadata": {},
     "output_type": "execute_result"
    }
   ],
   "source": [
    "transaction_t0.dtypes"
   ]
  },
  {
   "cell_type": "code",
   "execution_count": null,
   "metadata": {},
   "outputs": [],
   "source": []
  }
 ],
 "metadata": {
  "kernelspec": {
   "display_name": ".venv",
   "language": "python",
   "name": "python3"
  },
  "language_info": {
   "codemirror_mode": {
    "name": "ipython",
    "version": 3
   },
   "file_extension": ".py",
   "mimetype": "text/x-python",
   "name": "python",
   "nbconvert_exporter": "python",
   "pygments_lexer": "ipython3",
   "version": "3.9.12"
  }
 },
 "nbformat": 4,
 "nbformat_minor": 2
}
