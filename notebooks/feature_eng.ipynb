{
 "cells": [
  {
   "cell_type": "code",
   "execution_count": 1,
   "metadata": {},
   "outputs": [],
   "source": [
    "# Import libraries\n",
    "import numpy as np\n",
    "import pandas as pd\n",
    "import matplotlib.pyplot as plt\n",
    "import datetime\n",
    "from collections import defaultdict"
   ]
  },
  {
   "cell_type": "code",
   "execution_count": 2,
   "metadata": {},
   "outputs": [],
   "source": [
    " # Load the data\n",
    "data = {\n",
    "    \"eod_balance_training\": pd.read_csv(\n",
    "        \"gs://berkabank/production/data/04_processing/eod_balance_training.csv\"\n",
    "    ),\n",
    "    \"incidents\": pd.read_csv(\n",
    "        \"gs://berkabank/production/data/03_primary/incidents.csv\"\n",
    "    ),\n",
    "}"
   ]
  },
  {
   "cell_type": "code",
   "execution_count": 3,
   "metadata": {},
   "outputs": [
    {
     "data": {
      "text/plain": [
       "Index(['account_id', 'balance_date', 'end_of_day_balance', 'daily_amount_flow',\n",
       "       'n_transactions', 'days_since_account_creation', 'low_balance_streak',\n",
       "       'district_id'],\n",
       "      dtype='object')"
      ]
     },
     "execution_count": 3,
     "metadata": {},
     "output_type": "execute_result"
    }
   ],
   "source": [
    "data[\"eod_balance_training\"].columns"
   ]
  },
  {
   "cell_type": "code",
   "execution_count": 8,
   "metadata": {},
   "outputs": [],
   "source": [
    "from dataclasses import dataclass\n",
    "import pandas as pd\n",
    "from typing import Dict, List, Any, Callable\n",
    "\n",
    "\n",
    "@dataclass\n",
    "class IncidentFeatures:\n",
    "    incidents: pd.DataFrame\n",
    "    column_mapping: dict\n",
    "\n",
    "    def run(self):\n",
    "        print(\"----- Running IncidentFeatures...\")\n",
    "        incident_features = pd.DataFrame()\n",
    "        print(\"----- IncidentFeatures completed.\")\n",
    "        return incident_features\n",
    "\n",
    "\n",
    "@dataclass\n",
    "class EODBFeatures:\n",
    "    eod_balance_training: pd.DataFrame\n",
    "    column_mapping: dict\n",
    "    aggregations:dict\n",
    "\n",
    "    def run(self):\n",
    "        print(\"----- Running EODBFeatures...\")\n",
    "        eodb_features_output = pd.DataFrame()\n",
    "        print(\"----- EODBFeatures completed.\")\n",
    "        return eodb_features_output\n",
    "\n",
    "\n",
    "@dataclass\n",
    "class PrimaryFeatures:\n",
    "    incident_features: IncidentFeatures\n",
    "    eodb_features: EODBFeatures\n",
    "\n",
    "    def __post_init__(self):\n",
    "        print(\"--- Initializing PrimaryFeatures...\")\n",
    "        self.incident_features_output = self.incident_features.run()\n",
    "        self.eodb_features_output = self.eodb_features.run()\n",
    "        print(\"--- PrimaryFeatures initialized.\")\n",
    "\n",
    "    def run(self):\n",
    "        print(\"--- Running PrimaryFeatures...\")\n",
    "        primary_features_output = pd.DataFrame()\n",
    "        print(\"--- PrimaryFeatures completed.\")\n",
    "        return primary_features_output\n",
    "\n",
    "\n",
    "@dataclass\n",
    "class DerivedFeatures:\n",
    "    primary_features: PrimaryFeatures\n",
    "\n",
    "    def __post_init__(self):\n",
    "        print(\"--- Initializing DerivedFeatures...\")\n",
    "        self.primary_features_output = self.primary_features.run()\n",
    "        print(\"--- DerivedFeatures initialized.\")\n",
    "\n",
    "    def run(self):\n",
    "        print(\"--- Running DerivedFeatures...\")\n",
    "        derived_features = pd.DataFrame()\n",
    "        print(\"--- DerivedFeatures completed.\")\n",
    "        return derived_features\n",
    "\n",
    "\n",
    "@dataclass\n",
    "class FeatureEngineering:\n",
    "    primary_features: PrimaryFeatures\n",
    "    derived_features: DerivedFeatures\n",
    "\n",
    "    def run(self):\n",
    "        print(\"Running FeatureEngineering...\")\n",
    "        self.derived_features.run()\n",
    "        print(\"FeatureEngineering completed.\")"
   ]
  },
  {
   "cell_type": "code",
   "execution_count": 9,
   "metadata": {},
   "outputs": [],
   "source": [
    "column_mapping = {\n",
    "    \"incidents\":{\n",
    "        \"account_id\": \"account_id\",\n",
    "        \"incident_date\": \"incident_date\",\n",
    "        \"district_id\": \"district_id\",\n",
    "        \"t0\": \"t0\",\n",
    "        \"t1\": \"t1\",\n",
    "    },\n",
    "    \"eod_balance_training\":{\n",
    "        \"account_id\": \"account_id\",\n",
    "        \"balance_date\": \"balance_date\",\n",
    "        \"end_of_day_balance\": \"end_of_day_balance\",\n",
    "        \"daily_amount_flow\": \"daily_amount_flow\",\n",
    "        \"n_transactions\": \"n_transactions\",\n",
    "        \"days_since_account_creation\": \"days_since_account_creation\",\n",
    "        \"low_balance_streak\": \"low_balance_streak\",\n",
    "        \"district_id\": \"district_id\",\n",
    "    }\n",
    "    \n",
    "}\n",
    "\n",
    "aggregations = {\n",
    "    \"time_periods_days\":[str(i) for i in range(1, 31)],\n",
    "    \"functions\" : [\"mean\", \"std\", \"min\", \"max\", \"sum\"],\n",
    "    \"columns\": [\"end_of_day_balance\" , \"daily_amount_flow\", \"n_transactions\"]\n",
    "}"
   ]
  },
  {
   "cell_type": "code",
   "execution_count": 10,
   "metadata": {},
   "outputs": [],
   "source": [
    "df = data[\"eod_balance_training\"].loc[:,[\"account_id\",\"balance_date\",\"end_of_day_balance\" , \"daily_amount_flow\", \"n_transactions\"]].copy()"
   ]
  },
  {
   "cell_type": "code",
   "execution_count": 11,
   "metadata": {},
   "outputs": [
    {
     "name": "stdout",
     "output_type": "stream",
     "text": [
      "--- Initializing PrimaryFeatures...\n",
      "----- Running IncidentFeatures...\n",
      "----- IncidentFeatures completed.\n",
      "----- Running EODBFeatures...\n",
      "----- EODBFeatures completed.\n",
      "--- PrimaryFeatures initialized.\n",
      "--- Initializing DerivedFeatures...\n",
      "--- Running PrimaryFeatures...\n",
      "--- PrimaryFeatures completed.\n",
      "--- DerivedFeatures initialized.\n",
      "Running FeatureEngineering...\n",
      "--- Running DerivedFeatures...\n",
      "--- DerivedFeatures completed.\n",
      "FeatureEngineering completed.\n"
     ]
    }
   ],
   "source": [
    "# Configure each class with specific parameters\n",
    "incident_features = IncidentFeatures(data[\"incidents\"], column_mapping[\"incidents\"])\n",
    "eodb_features = EODBFeatures(\n",
    "    data[\"eod_balance_training\"], column_mapping[\"eod_balance_training\"],aggregations\n",
    ")\n",
    "primary_features = PrimaryFeatures(\n",
    "   \n",
    "    incident_features,\n",
    "    eodb_features,\n",
    ")\n",
    "derived_features = DerivedFeatures(primary_features)\n",
    "\n",
    "# Run the FeatureEngineering pipeline\n",
    "feature_engineering = FeatureEngineering(primary_features, derived_features)\n",
    "features = feature_engineering.run()"
   ]
  },
  {
   "cell_type": "code",
   "execution_count": null,
   "metadata": {},
   "outputs": [],
   "source": []
  }
 ],
 "metadata": {
  "kernelspec": {
   "display_name": ".venv",
   "language": "python",
   "name": "python3"
  },
  "language_info": {
   "codemirror_mode": {
    "name": "ipython",
    "version": 3
   },
   "file_extension": ".py",
   "mimetype": "text/x-python",
   "name": "python",
   "nbconvert_exporter": "python",
   "pygments_lexer": "ipython3",
   "version": "3.9.12"
  }
 },
 "nbformat": 4,
 "nbformat_minor": 2
}
