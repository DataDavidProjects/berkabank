{
 "cells": [
  {
   "cell_type": "code",
   "execution_count": 121,
   "metadata": {},
   "outputs": [
    {
     "name": "stdout",
     "output_type": "stream",
     "text": [
      "The autoreload extension is already loaded. To reload it, use:\n",
      "  %reload_ext autoreload\n"
     ]
    }
   ],
   "source": [
    "%load_ext autoreload\n",
    "%autoreload 2"
   ]
  },
  {
   "cell_type": "code",
   "execution_count": 122,
   "metadata": {},
   "outputs": [],
   "source": [
    "# Import libraries\n",
    "import numpy as np\n",
    "import pandas as pd\n",
    "import matplotlib.pyplot as plt\n",
    "import datetime"
   ]
  },
  {
   "cell_type": "code",
   "execution_count": 123,
   "metadata": {},
   "outputs": [],
   "source": [
    "from src.features.engineering import *\n",
    "from src.features.selection import *\n",
    "from src.model.hyperparameter import *\n",
    "from src.model.evaluation import *\n",
    "from src.features.drivers import *\n",
    "from src.features.utils import *"
   ]
  },
  {
   "cell_type": "code",
   "execution_count": 124,
   "metadata": {},
   "outputs": [],
   "source": [
    "# Load the data\n",
    "data = {\n",
    "    \"eod_balance_training\": pd.read_csv(\n",
    "        \"../berkabank/primary/eod_balance_training.csv\"\n",
    "    ),\n",
    "    \"incidents\": pd.read_csv(\"../berkabank/primary/incidents.csv\"),\n",
    "}\n",
    "\n",
    "core = pd.read_csv(\"../berkabank/primary/core.csv\")\n",
    "\n",
    "column_mapping = {\n",
    "    \"incidents\": {\n",
    "        \"account_id\": \"account_id\",\n",
    "        \"incident_date\": \"incident_date\",\n",
    "        \"district_id\": \"district_id\",\n",
    "        \"t0\": \"t0\",\n",
    "        \"t1\": \"t1\",\n",
    "    },\n",
    "    \"eod_balance_training\": {\n",
    "        \"account_id\": \"account_id\",\n",
    "        \"balance_date\": \"balance_date\",\n",
    "        \"end_of_day_balance\": \"end_of_day_balance\",\n",
    "        \"daily_amount_flow\": \"daily_amount_flow\",\n",
    "        \"n_transactions\": \"n_transactions\",\n",
    "        \"days_since_account_creation\": \"days_since_account_creation\",\n",
    "        \"low_balance_streak\": \"low_balance_streak\",\n",
    "        \"district_id\": \"district_id\",\n",
    "    },\n",
    "}\n",
    "\n",
    "eod_balance_training = (\n",
    "    data[\"eod_balance_training\"]\n",
    "    .loc[\n",
    "        :,\n",
    "        [\n",
    "            \"account_id\",\n",
    "            \"balance_date\",\n",
    "            \"end_of_day_balance\",\n",
    "            \"daily_amount_flow\",\n",
    "            \"n_transactions\",\n",
    "        ],\n",
    "    ]\n",
    "    .copy()\n",
    ")\n",
    "\n",
    "eod_balance_training[\"flow_category\"] = (\n",
    "    eod_balance_training[\"daily_amount_flow\"]\n",
    "    .gt(0)\n",
    "    .replace({True: \"inflow\", False: \"outflow\"})\n",
    ")\n",
    "\n",
    "eod_balance_training[\"daily_amount_inflow\"] = eod_balance_training[\n",
    "    \"daily_amount_flow\"\n",
    "].clip(lower=0)\n",
    "\n",
    "eod_balance_training[\"daily_amount_outflow\"] = (\n",
    "    eod_balance_training[\"daily_amount_flow\"].clip(upper=0).abs()\n",
    ")"
   ]
  },
  {
   "cell_type": "code",
   "execution_count": 125,
   "metadata": {},
   "outputs": [
    {
     "name": "stdout",
     "output_type": "stream",
     "text": [
      "----- Running EODBFeatures...\n",
      "----- EODBFeatures completed.\n",
      "--- Running DerivedFeatures...\n",
      "--- DerivedFeatures completed.\n"
     ]
    }
   ],
   "source": [
    "index = [\"account_id\"]\n",
    "feature_based = [\n",
    "    \"daily_amount_inflow\",\n",
    "    \"daily_amount_outflow\",\n",
    "]\n",
    "features_selected = eod_balance_training.loc[:, index + feature_based]\n",
    "eod_feature_matrix = EODBFeatures(\n",
    "    eod_balance_training=features_selected,\n",
    "    column_mapping=column_mapping[\"eod_balance_training\"],\n",
    ").run()\n",
    "\n",
    "eod_feature_matrix = RatioFeatures(\n",
    "    df=eod_feature_matrix, n=1000, strategy=\"kurtosis\"\n",
    ").run()"
   ]
  },
  {
   "cell_type": "code",
   "execution_count": 126,
   "metadata": {},
   "outputs": [],
   "source": [
    "feature_elimination_pipeline = FeatureEliminationPipeline(\n",
    "    {\n",
    "        \"missing_rate\": FeatureEliminationMissingRate(0.1),\n",
    "        \"cov\": FeatureEliminationCoV(0.8),\n",
    "        \"kurtosis\": FeatureEliminationKurtosis(3),\n",
    "        \"pearson\": FeatureEliminationPearsonCorr(0.7),\n",
    "        \"vif\": FeatureEliminationVIF(8),\n",
    "    }\n",
    ")\n",
    "\n",
    "eod_feature_matrix = feature_elimination_pipeline.run(eod_feature_matrix, y=None)"
   ]
  },
  {
   "cell_type": "code",
   "execution_count": 127,
   "metadata": {},
   "outputs": [
    {
     "name": "stdout",
     "output_type": "stream",
     "text": [
      "--- Running FeatureImputer...\n",
      "--- FeatureImputer completed.\n"
     ]
    }
   ],
   "source": [
    "eod_feature_matrix = FeatureImputer(eod_feature_matrix).run()"
   ]
  },
  {
   "cell_type": "code",
   "execution_count": 128,
   "metadata": {},
   "outputs": [
    {
     "name": "stdout",
     "output_type": "stream",
     "text": [
      "target\n",
      "False    1283\n",
      "True      758\n",
      "Name: count, dtype: int64\n",
      "target\n",
      "False    68\n",
      "True     40\n",
      "Name: count, dtype: int64\n"
     ]
    }
   ],
   "source": [
    "# Split train and validation\n",
    "from sklearn.model_selection import StratifiedShuffleSplit\n",
    "\n",
    "core_feature = core.merge(eod_feature_matrix.reset_index(), on=index).set_index(index)\n",
    "X = core_feature.loc[:, eod_feature_matrix.columns]\n",
    "y = core_feature[\"target\"]\n",
    "\n",
    "# Balance cv and validation folds\n",
    "split = StratifiedShuffleSplit(n_splits=1, test_size=0.05, random_state=None)\n",
    "\n",
    "for train_index, test_index in split.split(X, y):\n",
    "    X_train, X_test = X.iloc[train_index], X.iloc[test_index]\n",
    "    y_train, y_test = y.iloc[train_index], y.iloc[test_index]\n",
    "\n",
    "print(y_train.value_counts(normalize=False))\n",
    "print(y_test.value_counts(normalize=False))"
   ]
  },
  {
   "cell_type": "code",
   "execution_count": 129,
   "metadata": {},
   "outputs": [],
   "source": [
    "# Parameters\n",
    "from sklearn.ensemble import RandomForestClassifier\n",
    "\n",
    "params = {\n",
    "    \"n_estimators\": [50, 100, 200],\n",
    "    \"max_depth\": [10, 20, 30],\n",
    "    \"min_samples_split\": [2, 5, 10],\n",
    "}\n",
    "step = 0.1\n",
    "scoring = \"roc_auc\"\n",
    "cv = 3\n",
    "n_jobs = -1\n",
    "standard_error_threshold = 0.05\n",
    "return_type = \"feature_names\"\n",
    "num_features = \"best_parsimonious\"\n",
    "min_features_to_select = 5\n",
    "\n",
    "# Model GridSearch\n",
    "model = RandomizedSearchCV(\n",
    "    estimator=RandomForestClassifier(),\n",
    "    param_distributions=params,\n",
    ")\n",
    "\n",
    "# Process core\n",
    "features_processor = FeatureEliminationShap(\n",
    "    model=model,\n",
    "    cv=StratifiedShuffleSplit(n_splits=cv, test_size=0.1, random_state=42),\n",
    "    step=step,\n",
    "    scoring=scoring,\n",
    "    n_jobs=n_jobs,\n",
    "    standard_error_threshold=standard_error_threshold,\n",
    "    return_type=return_type,\n",
    "    num_features=num_features,\n",
    "    check_additivity=False,\n",
    "    min_features_to_select=min_features_to_select,\n",
    ")\n",
    "\n",
    "drivers = features_processor.run(X=X_train, y=y_train)"
   ]
  },
  {
   "cell_type": "code",
   "execution_count": 130,
   "metadata": {},
   "outputs": [],
   "source": [
    "model = RandomForestClassifier().fit(X_train[drivers], y_train)\n",
    "y_proba = model.predict_proba(X_train[drivers])\n",
    "optimal_threshold = OptimalCutoffBinaryClassification(\n",
    "    model=model, y_true=y_train, y_proba=y_proba\n",
    ").run()"
   ]
  },
  {
   "cell_type": "code",
   "execution_count": 131,
   "metadata": {},
   "outputs": [
    {
     "data": {
      "text/plain": [
       "0.55"
      ]
     },
     "execution_count": 131,
     "metadata": {},
     "output_type": "execute_result"
    }
   ],
   "source": [
    "optimal_threshold"
   ]
  },
  {
   "cell_type": "code",
   "execution_count": 132,
   "metadata": {},
   "outputs": [
    {
     "name": "stdout",
     "output_type": "stream",
     "text": [
      "True Distribution of target:\n",
      "target\n",
      "False    68\n",
      "True     40\n",
      "Name: count, dtype: int64\n",
      "Cutoff:optimal_threshold=0.55\n"
     ]
    },
    {
     "data": {
      "image/png": "[encoded data removed]",
      "text/plain": [
       "<Figure size 1000x600 with 1 Axes>"
      ]
     },
     "metadata": {},
     "output_type": "display_data"
    }
   ],
   "source": [
    "import matplotlib.pyplot as plt\n",
    "\n",
    "scores = pd.Series(model.predict_proba(X_test[drivers])[:, 1])\n",
    "print(f\"True Distribution of target:\\n{y_test.value_counts()}\")\n",
    "print(f\"Cutoff:{optimal_threshold=}\")\n",
    "# Generate the data\n",
    "max_q = 10\n",
    "cutoff = optimal_threshold\n",
    "bin_scores = pd.DataFrame(\n",
    "    pd.qcut(scores, max_q + 1, labels=None, duplicates=\"drop\")\n",
    "    .value_counts()\n",
    "    .sort_index()\n",
    ")\n",
    "\n",
    "# Create a figure and axes objects\n",
    "fig, ax = plt.subplots(figsize=(10, 6))\n",
    "\n",
    "# Create a bar plot\n",
    "for i, val in bin_scores.iterrows():\n",
    "    color = \"darkred\" if i.right > cutoff else \"skyblue\"\n",
    "    ax.bar(str(i.right), val, color=color, edgecolor=\"darkblue\", alpha=0.7)\n",
    "\n",
    "# Set the title and labels\n",
    "ax.set_title(\"Risk Buckets for Test\", fontsize=15)\n",
    "ax.set_xlabel(\"Bins\", fontsize=12)\n",
    "ax.set_ylabel(\"Frequency\", fontsize=12)\n",
    "\n",
    "# Remove the right and top spines\n",
    "ax.spines[\"right\"].set_visible(False)\n",
    "ax.spines[\"top\"].set_visible(False)\n",
    "\n",
    "# Display the plot\n",
    "plt.show()"
   ]
  },
  {
   "cell_type": "code",
   "execution_count": 133,
   "metadata": {},
   "outputs": [
    {
     "name": "stdout",
     "output_type": "stream",
     "text": [
      "Confusion Matrix:\n",
      " [[59  9]\n",
      " [11 29]]\n"
     ]
    },
    {
     "data": {
      "text/html": [
       "<div>\n",
       "<style scoped>\n",
       "    .dataframe tbody tr th:only-of-type {\n",
       "        vertical-align: middle;\n",
       "    }\n",
       "\n",
       "    .dataframe tbody tr th {\n",
       "        vertical-align: top;\n",
       "    }\n",
       "\n",
       "    .dataframe thead th {\n",
       "        text-align: right;\n",
       "    }\n",
       "</style>\n",
       "<table border=\"1\" class=\"dataframe\">\n",
       "  <thead>\n",
       "    <tr style=\"text-align: right;\">\n",
       "      <th></th>\n",
       "      <th>ROC AUC Score</th>\n",
       "      <th>Precision</th>\n",
       "      <th>Recall</th>\n",
       "      <th>F1 Score</th>\n",
       "      <th>F0.5 Score</th>\n",
       "      <th>F2 Score</th>\n",
       "    </tr>\n",
       "    <tr>\n",
       "      <th>Model</th>\n",
       "      <th></th>\n",
       "      <th></th>\n",
       "      <th></th>\n",
       "      <th></th>\n",
       "      <th></th>\n",
       "      <th></th>\n",
       "    </tr>\n",
       "  </thead>\n",
       "  <tbody>\n",
       "    <tr>\n",
       "      <th>0</th>\n",
       "      <td>0.876471</td>\n",
       "      <td>0.763158</td>\n",
       "      <td>0.725</td>\n",
       "      <td>0.74359</td>\n",
       "      <td>0.755208</td>\n",
       "      <td>0.732323</td>\n",
       "    </tr>\n",
       "  </tbody>\n",
       "</table>\n",
       "</div>"
      ],
      "text/plain": [
       "       ROC AUC Score  Precision  Recall  F1 Score  F0.5 Score  F2 Score\n",
       "Model                                                                  \n",
       "0           0.876471   0.763158   0.725   0.74359    0.755208  0.732323"
      ]
     },
     "execution_count": 133,
     "metadata": {},
     "output_type": "execute_result"
    }
   ],
   "source": [
    "y_pred_test = model.predict_proba(X_test[drivers])\n",
    "ModelEvaluationBinaryClassification(\n",
    "    model=model, y_proba=y_pred_test, y=y_test, cutoff_score=optimal_threshold\n",
    ").run()"
   ]
  },
  {
   "cell_type": "code",
   "execution_count": null,
   "metadata": {},
   "outputs": [],
   "source": []
  }
 ],
 "metadata": {
  "kernelspec": {
   "display_name": ".venv",
   "language": "python",
   "name": "python3"
  },
  "language_info": {
   "codemirror_mode": {
    "name": "ipython",
    "version": 3
   },
   "file_extension": ".py",
   "mimetype": "text/x-python",
   "name": "python",
   "nbconvert_exporter": "python",
   "pygments_lexer": "ipython3",
   "version": "3.9.12"
  }
 },
 "nbformat": 4,
 "nbformat_minor": 2
}
