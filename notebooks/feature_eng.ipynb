{
 "cells": [
  {
   "cell_type": "code",
   "execution_count": 1,
   "metadata": {},
   "outputs": [],
   "source": [
    "%load_ext autoreload\n",
    "%autoreload 2"
   ]
  },
  {
   "cell_type": "code",
   "execution_count": 2,
   "metadata": {},
   "outputs": [],
   "source": [
    "# Import libraries\n",
    "import numpy as np\n",
    "import pandas as pd\n",
    "import matplotlib.pyplot as plt\n",
    "import datetime\n",
    "\n",
    "\n",
    "from sklearn.ensemble import RandomForestClassifier\n",
    "from sklearn.tree import DecisionTreeClassifier\n",
    "from imblearn.ensemble import BalancedRandomForestClassifier"
   ]
  },
  {
   "cell_type": "code",
   "execution_count": 3,
   "metadata": {},
   "outputs": [
    {
     "name": "stderr",
     "output_type": "stream",
     "text": [
      "/Users/davidelupis/Desktop/Testing/berkabank/.venv/lib/python3.9/site-packages/tqdm/auto.py:21: TqdmWarning: IProgress not found. Please update jupyter and ipywidgets. See https://ipywidgets.readthedocs.io/en/stable/user_install.html\n",
      "  from .autonotebook import tqdm as notebook_tqdm\n"
     ]
    }
   ],
   "source": [
    "from src.features.engineering import *\n",
    "from src.features.selection import *\n",
    "from src.model.hyperparameter import *\n",
    "from src.model.evaluation import *\n",
    "from src.features.drivers import *\n",
    "from src.features.utils import *"
   ]
  },
  {
   "cell_type": "code",
   "execution_count": 4,
   "metadata": {},
   "outputs": [],
   "source": [
    "# Load the data\n",
    "data = {\n",
    "    \"eod_balance_training\": pd.read_csv(\n",
    "        \"../berkabank/primary/eod_balance_training.csv\"\n",
    "    ),\n",
    "    \"incidents\": pd.read_csv(\"../berkabank/primary/incidents.csv\"),\n",
    "}\n",
    "\n",
    "core = pd.read_csv(\"../berkabank/primary/core.csv\")\n",
    "\n",
    "column_mapping = {\n",
    "    \"incidents\": {\n",
    "        \"account_id\": \"account_id\",\n",
    "        \"incident_date\": \"incident_date\",\n",
    "        \"district_id\": \"district_id\",\n",
    "        \"t0\": \"t0\",\n",
    "        \"t1\": \"t1\",\n",
    "    },\n",
    "    \"eod_balance_training\": {\n",
    "        \"account_id\": \"account_id\",\n",
    "        \"balance_date\": \"balance_date\",\n",
    "        \"end_of_day_balance\": \"end_of_day_balance\",\n",
    "        \"daily_amount_flow\": \"daily_amount_flow\",\n",
    "        \"n_transactions\": \"n_transactions\",\n",
    "        \"days_since_account_creation\": \"days_since_account_creation\",\n",
    "        \"low_balance_streak\": \"low_balance_streak\",\n",
    "        \"district_id\": \"district_id\",\n",
    "    },\n",
    "}\n",
    "\n",
    "eod_balance_training = (\n",
    "    data[\"eod_balance_training\"]\n",
    "    .loc[\n",
    "        :,\n",
    "        [\n",
    "            \"account_id\",\n",
    "            \"balance_date\",\n",
    "            \"end_of_day_balance\",\n",
    "            \"daily_amount_flow\",\n",
    "            \"n_transactions\",\n",
    "        ],\n",
    "    ]\n",
    "    .copy()\n",
    ")\n",
    "\n",
    "eod_balance_training[\"flow_category\"] = (\n",
    "    eod_balance_training[\"daily_amount_flow\"]\n",
    "    .gt(0)\n",
    "    .replace({True: \"inflow\", False: \"outflow\"})\n",
    ")\n",
    "\n",
    "eod_balance_training[\"daily_amount_inflow\"] = eod_balance_training[\n",
    "    \"daily_amount_flow\"\n",
    "].clip(lower=0)\n",
    "\n",
    "eod_balance_training[\"daily_amount_outflow\"] = (\n",
    "    eod_balance_training[\"daily_amount_flow\"].clip(upper=0).abs()\n",
    ")"
   ]
  },
  {
   "cell_type": "code",
   "execution_count": 5,
   "metadata": {},
   "outputs": [
    {
     "name": "stdout",
     "output_type": "stream",
     "text": [
      "----- Running EODBFeatures...\n",
      "----- EODBFeatures completed.\n",
      "--- Running DerivedFeatures...\n",
      "--- DerivedFeatures completed.\n"
     ]
    }
   ],
   "source": [
    "index = [\"account_id\"]\n",
    "FEATURE_BASED = [\"daily_amount_inflow\", \"daily_amount_outflow\", \"end_of_day_balance\"]\n",
    "\n",
    "\n",
    "features_selected = eod_balance_training.loc[:, index + FEATURE_BASED]\n",
    "eod_feature_matrix = EODBFeatures(\n",
    "    eod_balance_training=features_selected,\n",
    "    column_mapping=column_mapping[\"eod_balance_training\"],\n",
    "    feature_columns=FEATURE_BASED,\n",
    ").run()\n",
    "\n",
    "eod_feature_matrix = RatioFeatures(\n",
    "    df=eod_feature_matrix, n=1000, strategy=\"kurtosis\"\n",
    ").run()"
   ]
  },
  {
   "cell_type": "code",
   "execution_count": 6,
   "metadata": {},
   "outputs": [],
   "source": [
    "feature_elimination_pipeline = FeatureEliminationPipeline(\n",
    "    {\n",
    "        \"missing_rate\": FeatureEliminationMissingRate(0.1),\n",
    "        \"cov\": FeatureEliminationCoV(0.8),\n",
    "        \"kurtosis\": FeatureEliminationKurtosis(3),\n",
    "        \"pearson\": FeatureEliminationPearsonCorr(0.7),\n",
    "        \"vif\": FeatureEliminationVIF(8),\n",
    "    }\n",
    ")\n",
    "\n",
    "eod_feature_matrix = feature_elimination_pipeline.run(eod_feature_matrix, y=None)"
   ]
  },
  {
   "cell_type": "code",
   "execution_count": 7,
   "metadata": {},
   "outputs": [
    {
     "name": "stdout",
     "output_type": "stream",
     "text": [
      "--- Running FeatureImputer...\n",
      "--- FeatureImputer completed.\n"
     ]
    }
   ],
   "source": [
    "eod_feature_matrix = FeatureImputer(eod_feature_matrix).run()"
   ]
  },
  {
   "cell_type": "code",
   "execution_count": 8,
   "metadata": {},
   "outputs": [
    {
     "name": "stdout",
     "output_type": "stream",
     "text": [
      "target\n",
      "False    1283\n",
      "True      758\n",
      "Name: count, dtype: int64\n",
      "target\n",
      "False    68\n",
      "True     40\n",
      "Name: count, dtype: int64\n"
     ]
    }
   ],
   "source": [
    "# Split train and validation\n",
    "from sklearn.model_selection import StratifiedShuffleSplit\n",
    "\n",
    "core_feature = core.merge(eod_feature_matrix.reset_index(), on=index).set_index(index)\n",
    "X = core_feature.loc[:, eod_feature_matrix.columns]\n",
    "y = core_feature[\"target\"]\n",
    "\n",
    "# Balance cv and validation folds\n",
    "split = StratifiedShuffleSplit(n_splits=1, test_size=0.05, random_state=None)\n",
    "\n",
    "for train_index, test_index in split.split(X, y):\n",
    "    X_train, X_test = X.iloc[train_index], X.iloc[test_index]\n",
    "    y_train, y_test = y.iloc[train_index], y.iloc[test_index]\n",
    "\n",
    "print(y_train.value_counts(normalize=False))\n",
    "print(y_test.value_counts(normalize=False))"
   ]
  },
  {
   "cell_type": "code",
   "execution_count": 9,
   "metadata": {},
   "outputs": [
    {
     "name": "stderr",
     "output_type": "stream",
     "text": [
      " 55%|===========         | 226/410 [17:15<14:02]       "
     ]
    }
   ],
   "source": [
    "# Model\n",
    "classifier = RandomForestClassifier()\n",
    "\n",
    "# Parameters\n",
    "params = {\n",
    "    \"n_estimators\": [50, 100, 200],\n",
    "    \"max_depth\": [10, 20, 30],\n",
    "    \"min_samples_split\": [2, 5, 10],\n",
    "}\n",
    "step = 0.1\n",
    "scoring = \"roc_auc\"\n",
    "cv = 3\n",
    "n_jobs = -1\n",
    "standard_error_threshold = 0.05\n",
    "return_type = \"feature_names\"\n",
    "num_features = \"best_parsimonious\"\n",
    "min_features_to_select = 5\n",
    "\n",
    "# Model GridSearch\n",
    "model = RandomizedSearchCV(\n",
    "    estimator=classifier,\n",
    "    param_distributions=params,\n",
    ")\n",
    "\n",
    "# Process core\n",
    "features_processor = FeatureEliminationShap(\n",
    "    model=model,\n",
    "    cv=StratifiedShuffleSplit(n_splits=cv, test_size=0.1, random_state=42),\n",
    "    step=step,\n",
    "    scoring=scoring,\n",
    "    n_jobs=n_jobs,\n",
    "    standard_error_threshold=standard_error_threshold,\n",
    "    return_type=return_type,\n",
    "    num_features=num_features,\n",
    "    check_additivity=False,\n",
    "    min_features_to_select=min_features_to_select,\n",
    ")\n",
    "\n",
    "drivers = features_processor.run(X=X_train, y=y_train)"
   ]
  },
  {
   "cell_type": "code",
   "execution_count": 10,
   "metadata": {},
   "outputs": [
    {
     "name": "stderr",
     "output_type": "stream",
     "text": [
      "/Users/davidelupis/Desktop/Testing/berkabank/.venv/lib/python3.9/site-packages/imblearn/ensemble/_forest.py:577: FutureWarning: The default of `sampling_strategy` will change from `'auto'` to `'all'` in version 0.13. This change will follow the implementation proposed in the original paper. Set to `'all'` to silence this warning and adopt the future behaviour.\n",
      "  warn(\n",
      "/Users/davidelupis/Desktop/Testing/berkabank/.venv/lib/python3.9/site-packages/imblearn/ensemble/_forest.py:589: FutureWarning: The default of `replacement` will change from `False` to `True` in version 0.13. This change will follow the implementation proposed in the original paper. Set to `True` to silence this warning and adopt the future behaviour.\n",
      "  warn(\n"
     ]
    },
    {
     "data": {
      "text/html": [
       "<div>\n",
       "<style scoped>\n",
       "    .dataframe tbody tr th:only-of-type {\n",
       "        vertical-align: middle;\n",
       "    }\n",
       "\n",
       "    .dataframe tbody tr th {\n",
       "        vertical-align: top;\n",
       "    }\n",
       "\n",
       "    .dataframe thead th {\n",
       "        text-align: right;\n",
       "    }\n",
       "</style>\n",
       "<table border=\"1\" class=\"dataframe\">\n",
       "  <thead>\n",
       "    <tr style=\"text-align: right;\">\n",
       "      <th></th>\n",
       "      <th>ROC AUC Score</th>\n",
       "      <th>Precision</th>\n",
       "      <th>Recall</th>\n",
       "      <th>F1 Score</th>\n",
       "      <th>F0.5 Score</th>\n",
       "      <th>F2 Score</th>\n",
       "      <th>Optimal Threshold</th>\n",
       "    </tr>\n",
       "    <tr>\n",
       "      <th>Model</th>\n",
       "      <th></th>\n",
       "      <th></th>\n",
       "      <th></th>\n",
       "      <th></th>\n",
       "      <th></th>\n",
       "      <th></th>\n",
       "      <th></th>\n",
       "    </tr>\n",
       "  </thead>\n",
       "  <tbody>\n",
       "    <tr>\n",
       "      <th>BalancedRandomForestClassifier</th>\n",
       "      <td>0.884559</td>\n",
       "      <td>0.700000</td>\n",
       "      <td>0.7</td>\n",
       "      <td>0.700000</td>\n",
       "      <td>0.700000</td>\n",
       "      <td>0.700000</td>\n",
       "      <td>0.63</td>\n",
       "    </tr>\n",
       "    <tr>\n",
       "      <th>RandomForestClassifier</th>\n",
       "      <td>0.881066</td>\n",
       "      <td>0.736842</td>\n",
       "      <td>0.7</td>\n",
       "      <td>0.717949</td>\n",
       "      <td>0.729167</td>\n",
       "      <td>0.707071</td>\n",
       "      <td>0.57</td>\n",
       "    </tr>\n",
       "  </tbody>\n",
       "</table>\n",
       "</div>"
      ],
      "text/plain": [
       "                                ROC AUC Score  Precision  Recall  F1 Score  \\\n",
       "Model                                                                        \n",
       "BalancedRandomForestClassifier       0.884559   0.700000     0.7  0.700000   \n",
       "RandomForestClassifier               0.881066   0.736842     0.7  0.717949   \n",
       "\n",
       "                                F0.5 Score  F2 Score  Optimal Threshold  \n",
       "Model                                                                    \n",
       "BalancedRandomForestClassifier    0.700000  0.700000               0.63  \n",
       "RandomForestClassifier            0.729167  0.707071               0.57  "
      ]
     },
     "execution_count": 10,
     "metadata": {},
     "output_type": "execute_result"
    }
   ],
   "source": [
    "classifier_dict = {\n",
    "    model.__class__.__name__: model\n",
    "    for model in \n",
    "    [\n",
    "        RandomForestClassifier(bootstrap=True),\n",
    "        BalancedRandomForestClassifier(bootstrap=True),\n",
    "    ]\n",
    "    \n",
    "}\n",
    "\n",
    "\n",
    "experiments = []\n",
    "for classifier in classifier_dict:\n",
    "\n",
    "    # Fit the model\n",
    "    model = classifier_dict[classifier].fit(X_train[drivers], y_train)\n",
    "\n",
    "    # Determine the optimal cutoff\n",
    "    y_proba_train = model.predict_proba(X_train[drivers])\n",
    "    optimal_threshold = OptimalCutoffBinaryClassification(\n",
    "        model=model, y_true=y_train, y_proba=y_proba_train\n",
    "    ).run()\n",
    "\n",
    "    # Evaluate the model\n",
    "    y_pred_test = model.predict_proba(X_test[drivers])\n",
    "    cm, metrics_df, classification_report = ModelEvaluationBinaryClassification(\n",
    "        model=model, y_proba=y_pred_test, y=y_test, cutoff_score=optimal_threshold\n",
    "    ).run()\n",
    "   \n",
    "    metrics_df['Optimal Threshold'] = optimal_threshold\n",
    "    # Save the results\n",
    "    experiments.append(metrics_df)\n",
    "\n",
    "\n",
    "# Display the results\n",
    "experiment_df = pd.concat(experiments).sort_values(\"ROC AUC Score\", ascending=False)\n",
    "\n",
    "\n",
    "\n",
    "# Save the best model\n",
    "model = classifier_dict[experiment_df.index[0]]\n",
    "\n",
    "\n",
    "experiment_df"
   ]
  },
  {
   "cell_type": "code",
   "execution_count": 11,
   "metadata": {},
   "outputs": [
    {
     "name": "stdout",
     "output_type": "stream",
     "text": [
      "True Distribution of target:\n",
      "target\n",
      "False    68\n",
      "True     40\n",
      "Name: count, dtype: int64\n",
      "Cutoff:optimal_threshold=0.63\n"
     ]
    },
    {
     "data": {
      "image/png": "[encoded data removed]",
      "text/plain": [
       "<Figure size 1000x600 with 1 Axes>"
      ]
     },
     "metadata": {},
     "output_type": "display_data"
    }
   ],
   "source": [
    "import matplotlib.pyplot as plt\n",
    "\n",
    "scores = pd.Series(model.predict_proba(X_test[drivers])[:, 1])\n",
    "print(f\"True Distribution of target:\\n{y_test.value_counts()}\")\n",
    "print(f\"Cutoff:{optimal_threshold=}\")\n",
    "# Generate the data\n",
    "max_q = 10\n",
    "cutoff = optimal_threshold\n",
    "bin_scores = pd.DataFrame(\n",
    "    pd.qcut(scores, max_q + 1, labels=None, duplicates=\"drop\")\n",
    "    .value_counts()\n",
    "    .sort_index()\n",
    ")\n",
    "\n",
    "# Create a figure and axes objects\n",
    "fig, ax = plt.subplots(figsize=(10, 6))\n",
    "\n",
    "# Create a bar plot\n",
    "for i, val in bin_scores.iterrows():\n",
    "    color = \"darkred\" if i.right > cutoff else \"skyblue\"\n",
    "    ax.bar(str(i.right), val, color=color, edgecolor=\"darkblue\", alpha=0.7)\n",
    "\n",
    "# Set the title and labels\n",
    "ax.set_title(\"Risk Buckets for Test\", fontsize=15)\n",
    "ax.set_xlabel(\"Bins\", fontsize=12)\n",
    "ax.set_ylabel(\"Frequency\", fontsize=12)\n",
    "\n",
    "# Remove the right and top spines\n",
    "ax.spines[\"right\"].set_visible(False)\n",
    "ax.spines[\"top\"].set_visible(False)\n",
    "\n",
    "# Display the plot\n",
    "plt.show()"
   ]
  },
  {
   "cell_type": "code",
   "execution_count": 12,
   "metadata": {},
   "outputs": [],
   "source": [
    "y_pred_test = model.predict_proba(X_test[drivers])\n",
    "cm, metrics_df, classification_report = ModelEvaluationBinaryClassification(\n",
    "    model=model, y_proba=y_pred_test, y=y_test, cutoff_score=optimal_threshold\n",
    ").run()"
   ]
  },
  {
   "cell_type": "code",
   "execution_count": 13,
   "metadata": {},
   "outputs": [
    {
     "name": "stdout",
     "output_type": "stream",
     "text": [
      "              precision    recall  f1-score   support\n",
      "\n",
      "       False       0.82      0.82      0.82        68\n",
      "        True       0.70      0.70      0.70        40\n",
      "\n",
      "    accuracy                           0.78       108\n",
      "   macro avg       0.76      0.76      0.76       108\n",
      "weighted avg       0.78      0.78      0.78       108\n",
      "\n"
     ]
    },
    {
     "data": {
      "text/html": [
       "<style type=\"text/css\">\n",
       "#T_cb148_row0_col0 {\n",
       "  background-color: #08306b;\n",
       "  color: #f1f1f1;\n",
       "}\n",
       "#T_cb148_row0_col1, #T_cb148_row0_col2, #T_cb148_row0_col3, #T_cb148_row0_col4, #T_cb148_row0_col5 {\n",
       "  background-color: #f7fbff;\n",
       "  color: #000000;\n",
       "}\n",
       "</style>\n",
       "<table id=\"T_cb148\">\n",
       "  <thead>\n",
       "    <tr>\n",
       "      <th class=\"blank level0\" >&nbsp;</th>\n",
       "      <th id=\"T_cb148_level0_col0\" class=\"col_heading level0 col0\" >ROC AUC Score</th>\n",
       "      <th id=\"T_cb148_level0_col1\" class=\"col_heading level0 col1\" >Precision</th>\n",
       "      <th id=\"T_cb148_level0_col2\" class=\"col_heading level0 col2\" >Recall</th>\n",
       "      <th id=\"T_cb148_level0_col3\" class=\"col_heading level0 col3\" >F1 Score</th>\n",
       "      <th id=\"T_cb148_level0_col4\" class=\"col_heading level0 col4\" >F0.5 Score</th>\n",
       "      <th id=\"T_cb148_level0_col5\" class=\"col_heading level0 col5\" >F2 Score</th>\n",
       "    </tr>\n",
       "    <tr>\n",
       "      <th class=\"index_name level0\" >Model</th>\n",
       "      <th class=\"blank col0\" >&nbsp;</th>\n",
       "      <th class=\"blank col1\" >&nbsp;</th>\n",
       "      <th class=\"blank col2\" >&nbsp;</th>\n",
       "      <th class=\"blank col3\" >&nbsp;</th>\n",
       "      <th class=\"blank col4\" >&nbsp;</th>\n",
       "      <th class=\"blank col5\" >&nbsp;</th>\n",
       "    </tr>\n",
       "  </thead>\n",
       "  <tbody>\n",
       "    <tr>\n",
       "      <th id=\"T_cb148_level0_row0\" class=\"row_heading level0 row0\" >BalancedRandomForestClassifier</th>\n",
       "      <td id=\"T_cb148_row0_col0\" class=\"data row0 col0\" >0.88</td>\n",
       "      <td id=\"T_cb148_row0_col1\" class=\"data row0 col1\" >0.70</td>\n",
       "      <td id=\"T_cb148_row0_col2\" class=\"data row0 col2\" >0.70</td>\n",
       "      <td id=\"T_cb148_row0_col3\" class=\"data row0 col3\" >0.70</td>\n",
       "      <td id=\"T_cb148_row0_col4\" class=\"data row0 col4\" >0.70</td>\n",
       "      <td id=\"T_cb148_row0_col5\" class=\"data row0 col5\" >0.70</td>\n",
       "    </tr>\n",
       "  </tbody>\n",
       "</table>\n"
      ],
      "text/plain": [
       "<pandas.io.formats.style.Styler at 0x175793b20>"
      ]
     },
     "metadata": {},
     "output_type": "display_data"
    },
    {
     "data": {
      "image/png": "[encoded data removed]",
      "text/plain": [
       "<Figure size 640x480 with 2 Axes>"
      ]
     },
     "metadata": {},
     "output_type": "display_data"
    }
   ],
   "source": [
    "import seaborn as sns\n",
    "import matplotlib.pyplot as plt\n",
    "\n",
    "# Assuming cm is your confusion matrix\n",
    "sns.heatmap(cm, annot=True, fmt=\"d\", cmap=\"Blues\")\n",
    "plt.title(\"Confusion matrix\")\n",
    "plt.ylabel(\"True label\")\n",
    "plt.xlabel(\"Predicted label\")\n",
    "\n",
    "print(classification_report)\n",
    "display(metrics_df.style.background_gradient(cmap=\"Blues\", axis=1).format(\"{:.2f}\"))\n",
    "plt.show()"
   ]
  },
  {
   "cell_type": "code",
   "execution_count": 14,
   "metadata": {},
   "outputs": [
    {
     "data": {
      "text/plain": [
       "0    f_f_daily_amount_inflow__rolling_mean_10_days_max\n",
       "1    f_f_daily_amount_outflow__rolling_skew_30_days...\n",
       "2    f_f_daily_amount_outflow__rolling_kurt_70_days...\n",
       "3    f_f_daily_amount_inflow__rolling_kurt_20_days_...\n",
       "4    f_f_daily_amount_inflow__rolling_kurt_20_days_...\n",
       "Name: drivers, dtype: object"
      ]
     },
     "execution_count": 14,
     "metadata": {},
     "output_type": "execute_result"
    }
   ],
   "source": [
    "pd.Series(drivers, name=\"drivers\")"
   ]
  },
  {
   "cell_type": "code",
   "execution_count": 15,
   "metadata": {},
   "outputs": [
    {
     "data": {
      "text/html": [
       "<div>\n",
       "<style scoped>\n",
       "    .dataframe tbody tr th:only-of-type {\n",
       "        vertical-align: middle;\n",
       "    }\n",
       "\n",
       "    .dataframe tbody tr th {\n",
       "        vertical-align: top;\n",
       "    }\n",
       "\n",
       "    .dataframe thead th {\n",
       "        text-align: right;\n",
       "    }\n",
       "</style>\n",
       "<table border=\"1\" class=\"dataframe\">\n",
       "  <thead>\n",
       "    <tr style=\"text-align: right;\">\n",
       "      <th></th>\n",
       "      <th></th>\n",
       "      <th>Time Period - Days</th>\n",
       "    </tr>\n",
       "    <tr>\n",
       "      <th>Base Feature</th>\n",
       "      <th>Aggregation Function</th>\n",
       "      <th></th>\n",
       "    </tr>\n",
       "  </thead>\n",
       "  <tbody>\n",
       "    <tr>\n",
       "      <th rowspan=\"2\" valign=\"top\">f_daily_amount_inflow</th>\n",
       "      <th>kurt</th>\n",
       "      <td>2</td>\n",
       "    </tr>\n",
       "    <tr>\n",
       "      <th>mean</th>\n",
       "      <td>1</td>\n",
       "    </tr>\n",
       "    <tr>\n",
       "      <th rowspan=\"2\" valign=\"top\">f_daily_amount_outflow</th>\n",
       "      <th>kurt</th>\n",
       "      <td>2</td>\n",
       "    </tr>\n",
       "    <tr>\n",
       "      <th>skew</th>\n",
       "      <td>1</td>\n",
       "    </tr>\n",
       "    <tr>\n",
       "      <th>f_end_of_day_balance</th>\n",
       "      <th>max</th>\n",
       "      <td>1</td>\n",
       "    </tr>\n",
       "  </tbody>\n",
       "</table>\n",
       "</div>"
      ],
      "text/plain": [
       "                                             Time Period - Days\n",
       "Base Feature           Aggregation Function                    \n",
       "f_daily_amount_inflow  kurt                                   2\n",
       "                       mean                                   1\n",
       "f_daily_amount_outflow kurt                                   2\n",
       "                       skew                                   1\n",
       "f_end_of_day_balance   max                                    1"
      ]
     },
     "execution_count": 15,
     "metadata": {},
     "output_type": "execute_result"
    }
   ],
   "source": [
    "report_drivers(drivers).groupby([\"Base Feature\", \"Aggregation Function\"]).agg(\"count\")"
   ]
  },
  {
   "cell_type": "code",
   "execution_count": 16,
   "metadata": {},
   "outputs": [
    {
     "data": {
      "text/plain": [
       "['f_f_daily_amount_inflow__rolling_mean_10_days_max',\n",
       " 'f_f_daily_amount_outflow__rolling_skew_30_days_min',\n",
       " 'f_f_daily_amount_outflow__rolling_kurt_70_days_max',\n",
       " 'f_f_daily_amount_inflow__rolling_kurt_20_days_median_ratio_f_f_end_of_day_balance__rolling_max_60_days_max',\n",
       " 'f_f_daily_amount_inflow__rolling_kurt_20_days_median_ratio_f_f_daily_amount_outflow__rolling_kurt_30_days_median']"
      ]
     },
     "execution_count": 16,
     "metadata": {},
     "output_type": "execute_result"
    }
   ],
   "source": [
    "drivers"
   ]
  }
 ],
 "metadata": {
  "kernelspec": {
   "display_name": ".venv",
   "language": "python",
   "name": "python3"
  },
  "language_info": {
   "codemirror_mode": {
    "name": "ipython",
    "version": 3
   },
   "file_extension": ".py",
   "mimetype": "text/x-python",
   "name": "python",
   "nbconvert_exporter": "python",
   "pygments_lexer": "ipython3",
   "version": "3.9.12"
  }
 },
 "nbformat": 4,
 "nbformat_minor": 2
}
