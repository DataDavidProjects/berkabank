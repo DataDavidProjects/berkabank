{
 "cells": [
  {
   "cell_type": "code",
   "execution_count": 8,
   "metadata": {},
   "outputs": [
    {
     "name": "stdout",
     "output_type": "stream",
     "text": [
      "Prediction(predictions=[{'probability_negative': 0.5507941325475643, 'probability_positive': 0.4492058674524357}, {'probability_negative': 0.5270717496672866, 'probability_positive': 0.4729282503327134}, {'probability_negative': 0.1929976755932125, 'probability_positive': 0.8070023244067874}], deployed_model_id='189225951140249600', metadata=None, model_version_id='1', model_resource_name='projects/1036389498447/locations/europe-west6/models/6480521534111744000', explanations=None)\n"
     ]
    }
   ],
   "source": [
    "import json\n",
    "from google.cloud import aiplatform\n",
    "import pandas as pd\n",
    "import os\n",
    "\n",
    "\n",
    "# Define the project, location, and endpoint ID\n",
    "project_id = os.environ.get(\"PROJECT_ID\")\n",
    "project_number = os.environ.get(\"PROJECT_NUMBER\")\n",
    "location = os.environ.get(\"REGION\")\n",
    "endpoint_id = \"1986360114554077184\"\n",
    "# Authenticate the client\n",
    "aiplatform.init(project=project_id, location=location)\n",
    "# Initialize the AI Platform endpoint\n",
    "endpoint = aiplatform.Endpoint(\n",
    "    endpoint_name=f\"projects/{project_number}/locations/{location}/endpoints/{endpoint_id}\"\n",
    ")\n",
    "# Create the instances\n",
    "instances = [\n",
    "    {\"n_transactions\": 10},\n",
    "    {\"n_transactions\": 20},\n",
    "    {\"n_transactions\": 30},\n",
    "]\n",
    "# Make the prediction\n",
    "prediction = endpoint.predict(instances=instances)\n",
    "print(prediction)\n"
   ]
  },
  {
   "cell_type": "code",
   "execution_count": 9,
   "metadata": {},
   "outputs": [
    {
     "data": {
      "text/html": [
       "<div>\n",
       "<style scoped>\n",
       "    .dataframe tbody tr th:only-of-type {\n",
       "        vertical-align: middle;\n",
       "    }\n",
       "\n",
       "    .dataframe tbody tr th {\n",
       "        vertical-align: top;\n",
       "    }\n",
       "\n",
       "    .dataframe thead th {\n",
       "        text-align: right;\n",
       "    }\n",
       "</style>\n",
       "<table border=\"1\" class=\"dataframe\">\n",
       "  <thead>\n",
       "    <tr style=\"text-align: right;\">\n",
       "      <th></th>\n",
       "      <th>probability_negative</th>\n",
       "      <th>probability_positive</th>\n",
       "    </tr>\n",
       "  </thead>\n",
       "  <tbody>\n",
       "    <tr>\n",
       "      <th>0</th>\n",
       "      <td>0.550794</td>\n",
       "      <td>0.449206</td>\n",
       "    </tr>\n",
       "    <tr>\n",
       "      <th>1</th>\n",
       "      <td>0.527072</td>\n",
       "      <td>0.472928</td>\n",
       "    </tr>\n",
       "    <tr>\n",
       "      <th>2</th>\n",
       "      <td>0.192998</td>\n",
       "      <td>0.807002</td>\n",
       "    </tr>\n",
       "  </tbody>\n",
       "</table>\n",
       "</div>"
      ],
      "text/plain": [
       "   probability_negative  probability_positive\n",
       "0              0.550794              0.449206\n",
       "1              0.527072              0.472928\n",
       "2              0.192998              0.807002"
      ]
     },
     "execution_count": 9,
     "metadata": {},
     "output_type": "execute_result"
    }
   ],
   "source": [
    "pd.DataFrame(prediction.predictions)"
   ]
  },
  {
   "cell_type": "code",
   "execution_count": null,
   "metadata": {},
   "outputs": [],
   "source": []
  }
 ],
 "metadata": {
  "kernelspec": {
   "display_name": ".venv",
   "language": "python",
   "name": "python3"
  },
  "language_info": {
   "codemirror_mode": {
    "name": "ipython",
    "version": 3
   },
   "file_extension": ".py",
   "mimetype": "text/x-python",
   "name": "python",
   "nbconvert_exporter": "python",
   "pygments_lexer": "ipython3",
   "version": "3.9.12"
  }
 },
 "nbformat": 4,
 "nbformat_minor": 2
}
