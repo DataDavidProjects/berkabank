{
 "cells": [
  {
   "cell_type": "code",
   "execution_count": 23,
   "metadata": {},
   "outputs": [],
   "source": [
    "from sklearn.model_selection import RandomizedSearchCV\n",
    "from sklearn.ensemble import RandomForestClassifier\n",
    "import pandas as pd\n",
    "import json\n",
    "from google.cloud import storage\n",
    "from google.cloud import aiplatform as vertex_ai\n",
    "\n",
    "import os\n",
    "\n",
    "input_bucket_path = \"gs://berkabank/production/data/\""
   ]
  },
  {
   "cell_type": "code",
   "execution_count": 24,
   "metadata": {},
   "outputs": [],
   "source": [
    "import joblib\n",
    "\n",
    "bucket_name = \"berkabank\"\n",
    "source_blob_name = \"production/artifacts/model/berkamodel.joblib\"\n",
    "destination_file_name = \"./berkamodel.joblib\"\n",
    "storage_client = storage.Client()\n",
    "bucket = storage_client.bucket(bucket_name)\n",
    "blob = bucket.blob(source_blob_name)\n",
    "blob.download_to_filename(destination_file_name)\n",
    "\n"
   ]
  },
  {
   "cell_type": "code",
   "execution_count": 25,
   "metadata": {},
   "outputs": [
    {
     "name": "stderr",
     "output_type": "stream",
     "text": [
      "/Users/davidelupis/Desktop/Testing/berkabank/.venv/lib/python3.9/site-packages/sklearn/base.py:493: UserWarning: X does not have valid feature names, but RandomForestClassifier was fitted with feature names\n",
      "  warnings.warn(\n"
     ]
    },
    {
     "data": {
      "text/plain": [
       "array([[0.64975432, 0.35024568]])"
      ]
     },
     "execution_count": 25,
     "metadata": {},
     "output_type": "execute_result"
    }
   ],
   "source": [
    "joblib.load(destination_file_name).predict_proba([[3]]) "
   ]
  },
  {
   "cell_type": "code",
   "execution_count": 26,
   "metadata": {},
   "outputs": [],
   "source": [
    "# Authenticate with Google Cloud SDK for Vertex AI\n",
    "PROJECT_ID = os.environ.get(\"PROJECT_ID\")\n",
    "REGION = os.environ.get(\"REGION\")\n",
    "REPOSITORY = os.environ.get(\"BUCKET_NAME\")  # Match the Bucket name on Artifact Registry\n",
    "# Define the pipeline name\n",
    "PIPELINE_NAME = \"production\"\n",
    "\n",
    "# Defautl arguments for the pipeline\n",
    "default_params = {\n",
    "    \"project_id\": os.environ.get(\"PROJECT_ID\"),\n",
    "    \"region\": os.environ.get(\"REGION\"),\n",
    "    \"bucket_name\": os.environ.get(\"BUCKET_NAME\"),\n",
    "    \"pipeline_name\": PIPELINE_NAME,\n",
    "}\n",
    "\n",
    "# ------------- Define the details component -------------\n",
    "BASE_IMAGE = f\"{REGION}-docker.pkg.dev/{PROJECT_ID}/{REPOSITORY}/{PIPELINE_NAME}:latest\"\n",
    "\n",
    "# Init VertexAI\n",
    "vertex_ai.init(project=PROJECT_ID, location=REGION)"
   ]
  },
  {
   "cell_type": "code",
   "execution_count": 27,
   "metadata": {},
   "outputs": [
    {
     "data": {
      "text/plain": [
       "array(['n_transactions'], dtype=object)"
      ]
     },
     "execution_count": 27,
     "metadata": {},
     "output_type": "execute_result"
    }
   ],
   "source": [
    "joblib.load(destination_file_name).feature_names_in_"
   ]
  },
  {
   "cell_type": "code",
   "execution_count": 28,
   "metadata": {},
   "outputs": [
    {
     "name": "stdout",
     "output_type": "stream",
     "text": [
      "Creating Model\n",
      "Create Model backing LRO: projects/1036389498447/locations/europe-west6/models/783890217953132544/operations/3688180913490886656\n",
      "Model created. Resource name: projects/1036389498447/locations/europe-west6/models/783890217953132544@1\n",
      "To use this Model in another session:\n",
      "model = aiplatform.Model('projects/1036389498447/locations/europe-west6/models/783890217953132544@1')\n"
     ]
    }
   ],
   "source": [
    "from google.cloud import aiplatform as vertex_ai\n",
    "\n",
    "vertex_ai.init(project=PROJECT_ID, location=REGION)\n",
    "VERTEX_AI_MODEL_ID = \"berkamodel\"\n",
    "\n",
    "upload_config = vertex_ai.Model.upload(\n",
    "    display_name=VERTEX_AI_MODEL_ID,\n",
    "    is_default_version=False,\n",
    "    version_aliases=[\"experimental\", \"challenger\", \"custom-training\", \"random-forest\"],\n",
    "    version_description=\"A classifier\",\n",
    "    serving_container_image_uri=BASE_IMAGE,\n",
    "    serving_container_health_route=\"/health\",\n",
    "    serving_container_predict_route=\"/predict\",\n",
    "    serving_container_ports=[8080],\n",
    "    labels={\"created_by\": \"davide\", \"team\": \"badass\"},\n",
    ")"
   ]
  },
  {
   "cell_type": "code",
   "execution_count": 29,
   "metadata": {},
   "outputs": [
    {
     "name": "stdout",
     "output_type": "stream",
     "text": [
      "[<google.cloud.aiplatform.models.Endpoint object at 0x30e0268e0> \n",
      "resource name: projects/1036389498447/locations/europe-west6/endpoints/1986360114554077184]\n"
     ]
    }
   ],
   "source": [
    "# Create Endpoint\n",
    "model_name = \"berkamodel\"\n",
    "model_endpoint = f\"{model_name}_endpoint\"\n",
    "# Fetch existing endpoint if exist\n",
    "endpoints = vertex_ai.Endpoint.list(\n",
    "    filter='display_name=\"{}\"'.format(model_endpoint),\n",
    "    order_by=\"create_time desc\",\n",
    "    project=PROJECT_ID,\n",
    "    location=REGION,\n",
    ")\n",
    "# If endpoint exists take most recent otherwise create endpoint\n",
    "# If endpoint exists take most recent otherwise create endpoint\n",
    "print(endpoints)\n",
    "if len(endpoints) > 0:\n",
    "    endpoint = endpoints[0]  # most recently created\n",
    "else:\n",
    "    # Create Endpoint\n",
    "    endpoint = vertex_ai.Endpoint.create(\n",
    "        display_name=model_endpoint, project=PROJECT_ID, location=REGION\n",
    "    )"
   ]
  },
  {
   "cell_type": "code",
   "execution_count": 30,
   "metadata": {},
   "outputs": [
    {
     "name": "stdout",
     "output_type": "stream",
     "text": [
      "Deploying model to Endpoint : projects/1036389498447/locations/europe-west6/endpoints/1986360114554077184\n",
      "Using default machine_type: n1-standard-2\n",
      "Deploy Endpoint model backing LRO: projects/1036389498447/locations/europe-west6/endpoints/1986360114554077184/operations/8203039539929808896\n",
      "Endpoint model deployed. Resource name: projects/1036389498447/locations/europe-west6/endpoints/1986360114554077184\n"
     ]
    }
   ],
   "source": [
    "# Make Champion Model and Deploy to Endpoint\n",
    "deployed_model_display_name = f\"{model_name}_champion\"\n",
    "endpoint_config = upload_config.deploy(\n",
    "    deployed_model_display_name=deployed_model_display_name,\n",
    "    endpoint=endpoint,\n",
    "    min_replica_count=1,\n",
    "    max_replica_count=1,\n",
    ")"
   ]
  },
  {
   "cell_type": "code",
   "execution_count": null,
   "metadata": {},
   "outputs": [],
   "source": []
  },
  {
   "cell_type": "code",
   "execution_count": null,
   "metadata": {},
   "outputs": [],
   "source": []
  },
  {
   "cell_type": "code",
   "execution_count": null,
   "metadata": {},
   "outputs": [],
   "source": []
  },
  {
   "cell_type": "code",
   "execution_count": null,
   "metadata": {},
   "outputs": [],
   "source": []
  },
  {
   "cell_type": "code",
   "execution_count": null,
   "metadata": {},
   "outputs": [],
   "source": []
  }
 ],
 "metadata": {
  "kernelspec": {
   "display_name": ".venv",
   "language": "python",
   "name": "python3"
  },
  "language_info": {
   "codemirror_mode": {
    "name": "ipython",
    "version": 3
   },
   "file_extension": ".py",
   "mimetype": "text/x-python",
   "name": "python",
   "nbconvert_exporter": "python",
   "pygments_lexer": "ipython3",
   "version": "3.9.12"
  }
 },
 "nbformat": 4,
 "nbformat_minor": 2
}
