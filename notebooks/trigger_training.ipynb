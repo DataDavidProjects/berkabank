{
 "cells": [
  {
   "cell_type": "code",
   "execution_count": 2,
   "metadata": {},
   "outputs": [],
   "source": [
    "from google.cloud import storage\n",
    "import json \n",
    "import pandas as pd\n",
    "storage_client = storage.Client()\n"
   ]
  },
  {
   "cell_type": "code",
   "execution_count": 3,
   "metadata": {},
   "outputs": [],
   "source": [
    "# Create a csv with columns: model name, performance, and date of trainig \n",
    "df = pd.DataFrame([{\n",
    "    'model_name': 'model1',\n",
    "    'performance': 0.9,\n",
    "    'date': '2021-01-01'\n",
    "}, {\n",
    "    'model_name': 'model2',\n",
    "    'performance': 0.8,\n",
    "    'date': '2021-01-02'\n",
    "}, ]).sort_values(\"date\")"
   ]
  },
  {
   "cell_type": "code",
   "execution_count": 8,
   "metadata": {},
   "outputs": [
    {
     "data": {
      "text/plain": [
       "0    True\n",
       "Name: performance, dtype: bool"
      ]
     },
     "execution_count": 8,
     "metadata": {},
     "output_type": "execute_result"
    }
   ],
   "source": [
    "pd.DataFrame([{\n",
    "    'model_name': 'model3',\n",
    "    'performance': 0.7,\n",
    "    'date': '2021-01-03'\n",
    "}])"
   ]
  },
  {
   "cell_type": "code",
   "execution_count": 11,
   "metadata": {},
   "outputs": [
    {
     "data": {
      "text/plain": [
       "True"
      ]
     },
     "execution_count": 11,
     "metadata": {},
     "output_type": "execute_result"
    }
   ],
   "source": [
    "pd.concat([df, pd.DataFrame([{\n",
    "    'model_name': 'model3',\n",
    "    'performance': 0.7,\n",
    "    'date': '2021-01-03'\n",
    "}])], axis=0, ignore_index=True).iloc[-1]['performance'].item() > 0.2"
   ]
  },
  {
   "cell_type": "code",
   "execution_count": 8,
   "metadata": {},
   "outputs": [
    {
     "name": "stdout",
     "output_type": "stream",
     "text": [
      "2.2.2\n"
     ]
    }
   ],
   "source": [
    "print(pd.__version__)"
   ]
  }
 ],
 "metadata": {
  "kernelspec": {
   "display_name": ".venv",
   "language": "python",
   "name": "python3"
  },
  "language_info": {
   "codemirror_mode": {
    "name": "ipython",
    "version": 3
   },
   "file_extension": ".py",
   "mimetype": "text/x-python",
   "name": "python",
   "nbconvert_exporter": "python",
   "pygments_lexer": "ipython3",
   "version": "3.9.12"
  }
 },
 "nbformat": 4,
 "nbformat_minor": 2
}
